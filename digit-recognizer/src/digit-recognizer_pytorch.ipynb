{
  "nbformat": 4,
  "nbformat_minor": 0,
  "metadata": {
    "orig_nbformat": 2,
    "file_extension": ".py",
    "mimetype": "text/x-python",
    "name": "python",
    "npconvert_exporter": "python",
    "pygments_lexer": "ipython3",
    "version": 3,
    "colab": {
      "name": "digit-recognizer_pytorch.ipynb",
      "provenance": []
    },
    "kernelspec": {
      "name": "python3",
      "display_name": "Python 3"
    }
  },
  "cells": [
    {
      "cell_type": "code",
      "metadata": {
        "id": "yr0syVAYMix3",
        "colab_type": "code",
        "colab": {}
      },
      "source": [
        "# Google Colabでkaggle.jsonをアップロード\n",
        "from google.colab import files\n",
        "files.upload()"
      ],
      "execution_count": 0,
      "outputs": []
    },
    {
      "cell_type": "code",
      "metadata": {
        "id": "UHFi51VYNAOD",
        "colab_type": "code",
        "colab": {}
      },
      "source": [
        "# Google Colabでkaggle.jsonをフォルダ移動\n",
        "!mkdir -p ~/.kaggle\n",
        "!mv kaggle.json ~/.kaggle/\n",
        "# kaggle.jsonの権限変更\n",
        "!chmod 600 ~/.kaggle/kaggle.json"
      ],
      "execution_count": 0,
      "outputs": []
    },
    {
      "cell_type": "code",
      "metadata": {
        "id": "i0ev3FsSNFyZ",
        "colab_type": "code",
        "colab": {}
      },
      "source": [
        "# Google Colabでデータセットをダウンロード\n",
        "!pip install kaggle\n",
        "!kaggle competitions download -c digit-recognizer"
      ],
      "execution_count": 0,
      "outputs": []
    },
    {
      "cell_type": "code",
      "metadata": {
        "id": "hvueMGoVNL0t",
        "colab_type": "code",
        "colab": {}
      },
      "source": [
        "# データセットを解凍\n",
        "!unzip train.csv.zip\n",
        "!unzip test.csv.zip"
      ],
      "execution_count": 0,
      "outputs": []
    },
    {
      "cell_type": "code",
      "metadata": {
        "id": "oth-MTVuKrGs",
        "colab_type": "code",
        "colab": {}
      },
      "source": [
        "import numpy as np\n",
        "import pandas as pd\n",
        "import matplotlib.pyplot as plt\n",
        "import torch\n",
        "import torch.nn as nn\n",
        "import torch.nn.functional as f\n",
        "import torch.optim as optim\n",
        "import torch.utils.data as data\n",
        "\n",
        "device = 'cuda' if torch.cuda.is_available() else 'cpu'"
      ],
      "execution_count": 0,
      "outputs": []
    },
    {
      "cell_type": "code",
      "metadata": {
        "id": "WpOfv2sNKrG_",
        "colab_type": "code",
        "colab": {}
      },
      "source": [
        "train = pd.read_csv('train.csv').astype(float)\n",
        "test = pd.read_csv('test.csv').astype(float)"
      ],
      "execution_count": 0,
      "outputs": []
    },
    {
      "cell_type": "code",
      "metadata": {
        "id": "M82IScr3KrHF",
        "colab_type": "code",
        "colab": {}
      },
      "source": [
        "train_y = train.loc[:, 'label'].astype(int)\n",
        "train_x = train.drop('label', axis=1)"
      ],
      "execution_count": 0,
      "outputs": []
    },
    {
      "cell_type": "code",
      "metadata": {
        "id": "CTJ5r9kaKrHM",
        "colab_type": "code",
        "colab": {}
      },
      "source": [
        "train_x = train_x / 255.0\n",
        "test = test / 255.0\n",
        "\n",
        "train_len = len(np.array(train_x))\n",
        "train_x = torch.FloatTensor(np.array(train_x)).view(train_len, 1, 28, 28).to(device)\n",
        "train_y = torch.LongTensor(np.array(train_y)).to(device)\n",
        "\n",
        "test_len = len(np.array(test))\n",
        "test = torch.FloatTensor(np.array(test)).view(test_len, 1, 28, 28).to(device)"
      ],
      "execution_count": 0,
      "outputs": []
    },
    {
      "cell_type": "code",
      "metadata": {
        "id": "SX-IHUOGKrHQ",
        "colab_type": "code",
        "colab": {}
      },
      "source": [
        "class Net(nn.Module):\n",
        "    def __init__(self):\n",
        "        super(Net, self).__init__()\n",
        "        self.layers = nn.Sequential(\n",
        "            nn.Conv2d(1, 32, 5),\n",
        "            nn.ReLU(inplace=True),\n",
        "            nn.MaxPool2d(2, 2),\n",
        "            nn.Conv2d(32, 64, 5),\n",
        "            nn.ReLU(inplace=True),\n",
        "            nn.MaxPool2d(2, 2),\n",
        "        )\n",
        "        self.linear1 = nn.Linear(64 * 4 * 4, 120)\n",
        "        self.linear2 = nn.Linear(120, 10)\n",
        "\n",
        "    def forward(self, x):\n",
        "        x = self.layers(x)\n",
        "        x = x.view(x.size(0), -1)\n",
        "        x = f.relu(self.linear1(x))\n",
        "        x = self.linear2(x)\n",
        "        return x"
      ],
      "execution_count": 0,
      "outputs": []
    },
    {
      "cell_type": "code",
      "metadata": {
        "id": "3ZsXwWq8KrHU",
        "colab_type": "code",
        "colab": {}
      },
      "source": [
        "EPOCH_NUM = 50\n",
        "BATCH_SIZE = 1024\n",
        "\n",
        "train = data.TensorDataset(train_x, train_y)\n",
        "train_loader = data.DataLoader(train, batch_size=BATCH_SIZE, shuffle=True)\n",
        "\n",
        "net = Net().to(device)\n",
        "criterion = nn.CrossEntropyLoss()\n",
        "optimizer = optim.SGD(net.parameters(), lr=0.01)"
      ],
      "execution_count": 0,
      "outputs": []
    },
    {
      "cell_type": "code",
      "metadata": {
        "id": "QwQYOf70KrHd",
        "colab_type": "code",
        "colab": {
          "base_uri": "https://localhost:8080/",
          "height": 867
        },
        "outputId": "7a6c9880-2a9e-403b-96c4-fb3984924936"
      },
      "source": [
        "loss_log = []\n",
        "for epoch in range(1, EPOCH_NUM + 1):\n",
        "    total_loss = 0\n",
        "    for x, y in train_loader:\n",
        "        optimizer.zero_grad()\n",
        "\n",
        "        output = net(x)\n",
        "        loss = criterion(output, y)\n",
        "        total_loss += loss.item()\n",
        "        loss.backward()\n",
        "        optimizer.step()\n",
        "\n",
        "    ave_loss = total_loss / BATCH_SIZE\n",
        "    loss_log.append(ave_loss)\n",
        "\n",
        "    print('Epoch: %d | Average Loss: %d' % (epoch, ave_loss))"
      ],
      "execution_count": 9,
      "outputs": [
        {
          "output_type": "stream",
          "text": [
            "Epoch: 1 | Average Loss: 0\n",
            "Epoch: 2 | Average Loss: 0\n",
            "Epoch: 3 | Average Loss: 0\n",
            "Epoch: 4 | Average Loss: 0\n",
            "Epoch: 5 | Average Loss: 0\n",
            "Epoch: 6 | Average Loss: 0\n",
            "Epoch: 7 | Average Loss: 0\n",
            "Epoch: 8 | Average Loss: 0\n",
            "Epoch: 9 | Average Loss: 0\n",
            "Epoch: 10 | Average Loss: 0\n",
            "Epoch: 11 | Average Loss: 0\n",
            "Epoch: 12 | Average Loss: 0\n",
            "Epoch: 13 | Average Loss: 0\n",
            "Epoch: 14 | Average Loss: 0\n",
            "Epoch: 15 | Average Loss: 0\n",
            "Epoch: 16 | Average Loss: 0\n",
            "Epoch: 17 | Average Loss: 0\n",
            "Epoch: 18 | Average Loss: 0\n",
            "Epoch: 19 | Average Loss: 0\n",
            "Epoch: 20 | Average Loss: 0\n",
            "Epoch: 21 | Average Loss: 0\n",
            "Epoch: 22 | Average Loss: 0\n",
            "Epoch: 23 | Average Loss: 0\n",
            "Epoch: 24 | Average Loss: 0\n",
            "Epoch: 25 | Average Loss: 0\n",
            "Epoch: 26 | Average Loss: 0\n",
            "Epoch: 27 | Average Loss: 0\n",
            "Epoch: 28 | Average Loss: 0\n",
            "Epoch: 29 | Average Loss: 0\n",
            "Epoch: 30 | Average Loss: 0\n",
            "Epoch: 31 | Average Loss: 0\n",
            "Epoch: 32 | Average Loss: 0\n",
            "Epoch: 33 | Average Loss: 0\n",
            "Epoch: 34 | Average Loss: 0\n",
            "Epoch: 35 | Average Loss: 0\n",
            "Epoch: 36 | Average Loss: 0\n",
            "Epoch: 37 | Average Loss: 0\n",
            "Epoch: 38 | Average Loss: 0\n",
            "Epoch: 39 | Average Loss: 0\n",
            "Epoch: 40 | Average Loss: 0\n",
            "Epoch: 41 | Average Loss: 0\n",
            "Epoch: 42 | Average Loss: 0\n",
            "Epoch: 43 | Average Loss: 0\n",
            "Epoch: 44 | Average Loss: 0\n",
            "Epoch: 45 | Average Loss: 0\n",
            "Epoch: 46 | Average Loss: 0\n",
            "Epoch: 47 | Average Loss: 0\n",
            "Epoch: 48 | Average Loss: 0\n",
            "Epoch: 49 | Average Loss: 0\n",
            "Epoch: 50 | Average Loss: 0\n"
          ],
          "name": "stdout"
        }
      ]
    },
    {
      "cell_type": "code",
      "metadata": {
        "id": "lG2IvMHNMZn_",
        "colab_type": "code",
        "colab": {
          "base_uri": "https://localhost:8080/",
          "height": 282
        },
        "outputId": "469ec6ea-1799-4da9-bd8f-db067550a9a0"
      },
      "source": [
        "plt.plot([i for i in range(EPOCH_NUM)], loss_log)"
      ],
      "execution_count": 10,
      "outputs": [
        {
          "output_type": "execute_result",
          "data": {
            "text/plain": [
              "[<matplotlib.lines.Line2D at 0x7f635c51d208>]"
            ]
          },
          "metadata": {
            "tags": []
          },
          "execution_count": 10
        },
        {
          "output_type": "display_data",
          "data": {
            "image/png": "[encoded data removed]",
            "text/plain": [
              "<Figure size 432x288 with 1 Axes>"
            ]
          },
          "metadata": {
            "tags": []
          }
        }
      ]
    },
    {
      "cell_type": "code",
      "metadata": {
        "id": "iRC3sT7yKrHl",
        "colab_type": "code",
        "colab": {}
      },
      "source": [
        "net.eval()\n",
        "result = torch.max(net(test), 1)[1]"
      ],
      "execution_count": 0,
      "outputs": []
    },
    {
      "cell_type": "code",
      "metadata": {
        "id": "TLQjTTg1KrHs",
        "colab_type": "code",
        "colab": {}
      },
      "source": [
        "submission = pd.DataFrame()\n",
        "submission['ImageId'] = [i for i in range(1, len(result.numpy()) + 1)]\n",
        "submission['Label'] = result.numpy()\n",
        "submission.to_csv('submission.csv', index=False)\n"
      ],
      "execution_count": 0,
      "outputs": []
    }
  ]
}