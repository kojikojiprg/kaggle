{
  "nbformat": 4,
  "nbformat_minor": 0,
  "metadata": {
    "orig_nbformat": 2,
    "file_extension": ".py",
    "mimetype": "text/x-python",
    "name": "python",
    "npconvert_exporter": "python",
    "pygments_lexer": "ipython3",
    "version": 3,
    "colab": {
      "name": "digit-recognizer_pytorch.ipynb",
      "provenance": [],
      "toc_visible": true
    },
    "kernelspec": {
      "name": "python3",
      "display_name": "Python 3"
    },
    "accelerator": "GPU"
  },
  "cells": [
    {
      "cell_type": "code",
      "metadata": {
        "id": "yr0syVAYMix3",
        "colab_type": "code",
        "outputId": "5b3b9664-779d-483e-d40d-7c5a21cde03f",
        "colab": {
          "resources": {
            "http://localhost:8080/nbextensions/google.colab/files.js": {
              "data": "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",
              "ok": true,
              "headers": [
                [
                  "content-type",
                  "application/javascript"
                ]
              ],
              "status": 200,
              "status_text": ""
            }
          },
          "base_uri": "https://localhost:8080/",
          "height": 88
        }
      },
      "source": [
        "# Google Colabでkaggle.jsonをアップロード\n",
        "from google.colab import files\n",
        "files.upload()"
      ],
      "execution_count": 1,
      "outputs": [
        {
          "output_type": "display_data",
          "data": {
            "text/html": [
              "\n",
              "     <input type=\"file\" id=\"files-83328412-434b-48c1-b88d-901fcc7b61b8\" name=\"files[]\" multiple disabled />\n",
              "     <output id=\"result-83328412-434b-48c1-b88d-901fcc7b61b8\">\n",
              "      Upload widget is only available when the cell has been executed in the\n",
              "      current browser session. Please rerun this cell to enable.\n",
              "      </output>\n",
              "      <script src=\"/nbextensions/google.colab/files.js\"></script> "
            ],
            "text/plain": [
              "<IPython.core.display.HTML object>"
            ]
          },
          "metadata": {
            "tags": []
          }
        },
        {
          "output_type": "stream",
          "text": [
            "Saving kaggle.json to kaggle.json\n"
          ],
          "name": "stdout"
        },
        {
          "output_type": "execute_result",
          "data": {
            "text/plain": [
              "{'kaggle.json': b'{\"username\":\"kojikojipro\",\"key\":\"04c6e3329de941099c00e7a9a89a384a\"}'}"
            ]
          },
          "metadata": {
            "tags": []
          },
          "execution_count": 1
        }
      ]
    },
    {
      "cell_type": "code",
      "metadata": {
        "id": "UHFi51VYNAOD",
        "colab_type": "code",
        "colab": {}
      },
      "source": [
        "# Google Colabでkaggle.jsonをフォルダ移動\n",
        "!mkdir -p ~/.kaggle\n",
        "!mv kaggle.json ~/.kaggle/\n",
        "# kaggle.jsonの権限変更\n",
        "!chmod 600 ~/.kaggle/kaggle.json"
      ],
      "execution_count": 0,
      "outputs": []
    },
    {
      "cell_type": "code",
      "metadata": {
        "id": "i0ev3FsSNFyZ",
        "colab_type": "code",
        "outputId": "e6a5c5c3-ef9f-4957-a87f-99d57d8c7ad8",
        "colab": {
          "base_uri": "https://localhost:8080/",
          "height": 442
        }
      },
      "source": [
        "# Google Colabでデータセットをダウンロード\n",
        "!kaggle competitions download -c digit-recognizer\n",
        "\n",
        "# データセットを解凍\n",
        "!unzip train.csv.zip\n",
        "!unzip test.csv.zip"
      ],
      "execution_count": 3,
      "outputs": [
        {
          "output_type": "stream",
          "text": [
            "Requirement already satisfied: kaggle in /usr/local/lib/python3.6/dist-packages (1.5.6)\n",
            "Requirement already satisfied: certifi in /usr/local/lib/python3.6/dist-packages (from kaggle) (2020.4.5.1)\n",
            "Requirement already satisfied: python-dateutil in /usr/local/lib/python3.6/dist-packages (from kaggle) (2.8.1)\n",
            "Requirement already satisfied: urllib3<1.25,>=1.21.1 in /usr/local/lib/python3.6/dist-packages (from kaggle) (1.24.3)\n",
            "Requirement already satisfied: requests in /usr/local/lib/python3.6/dist-packages (from kaggle) (2.23.0)\n",
            "Requirement already satisfied: six>=1.10 in /usr/local/lib/python3.6/dist-packages (from kaggle) (1.12.0)\n",
            "Requirement already satisfied: python-slugify in /usr/local/lib/python3.6/dist-packages (from kaggle) (4.0.0)\n",
            "Requirement already satisfied: tqdm in /usr/local/lib/python3.6/dist-packages (from kaggle) (4.41.1)\n",
            "Requirement already satisfied: chardet<4,>=3.0.2 in /usr/local/lib/python3.6/dist-packages (from requests->kaggle) (3.0.4)\n",
            "Requirement already satisfied: idna<3,>=2.5 in /usr/local/lib/python3.6/dist-packages (from requests->kaggle) (2.9)\n",
            "Requirement already satisfied: text-unidecode>=1.3 in /usr/local/lib/python3.6/dist-packages (from python-slugify->kaggle) (1.3)\n",
            "Warning: Looks like you're using an outdated API Version, please consider updating (server 1.5.6 / client 1.5.4)\n",
            "Downloading test.csv.zip to /content\n",
            " 82% 5.00M/6.09M [00:00<00:00, 20.7MB/s]\n",
            "100% 6.09M/6.09M [00:00<00:00, 24.2MB/s]\n",
            "Downloading sample_submission.csv to /content\n",
            "  0% 0.00/235k [00:00<?, ?B/s]\n",
            "100% 235k/235k [00:00<00:00, 78.5MB/s]\n",
            "Downloading train.csv.zip to /content\n",
            " 55% 5.00M/9.16M [00:00<00:00, 25.1MB/s]\n",
            "100% 9.16M/9.16M [00:00<00:00, 36.3MB/s]\n",
            "Archive:  train.csv.zip\n",
            "  inflating: train.csv               \n",
            "Archive:  test.csv.zip\n",
            "  inflating: test.csv                \n"
          ],
          "name": "stdout"
        }
      ]
    },
    {
      "cell_type": "code",
      "metadata": {
        "id": "oth-MTVuKrGs",
        "colab_type": "code",
        "colab": {}
      },
      "source": [
        "# Usual imports\n",
        "import numpy as np\n",
        "import pandas as pd\n",
        "import matplotlib as mpl\n",
        "import matplotlib.pyplot as plt\n",
        "import tensorflow as tf\n",
        "\n",
        "# Network building and training\n",
        "from tensorflow.keras.layers import Input, Conv2D, MaxPooling2D, Flatten, Dense, Dropout, BatchNormalization, SeparableConv2D, Multiply\n",
        "from tensorflow.keras.models import Model\n",
        "from tensorflow.keras.optimizers import Adam\n",
        "from tensorflow.keras.callbacks import ModelCheckpoint, EarlyStopping\n",
        "from tensorflow.keras.utils import to_categorical"
      ],
      "execution_count": 0,
      "outputs": []
    },
    {
      "cell_type": "code",
      "metadata": {
        "id": "WpOfv2sNKrG_",
        "colab_type": "code",
        "colab": {}
      },
      "source": [
        "train = pd.read_csv('train.csv').astype(float)\n",
        "test_x_raw = pd.read_csv('test.csv').astype(float).to_numpy()\n",
        "\n",
        "train_y_raw = train.loc[:, 'label'].astype(int).to_numpy()\n",
        "train_x_raw = train.drop('label', axis=1).to_numpy()\n",
        "\n",
        "train_x_raw = np.reshape(train_x_raw, (train_x_raw.shape[0], 28, 28, 1))\n",
        "test_x_raw = np.reshape(test_x_raw, (test_x_raw.shape[0], 28, 28, 1))"
      ],
      "execution_count": 0,
      "outputs": []
    },
    {
      "cell_type": "code",
      "metadata": {
        "id": "CTJ5r9kaKrHM",
        "colab_type": "code",
        "outputId": "772a8e7a-e915-41f2-a16d-008b7a6c7d6b",
        "colab": {
          "base_uri": "https://localhost:8080/",
          "height": 51
        }
      },
      "source": [
        "repeat = 2\n",
        "train_x = train_x_raw.repeat(repeat, axis=1).repeat(repeat, axis=2)\n",
        "test_x = test_x_raw.repeat(repeat, axis=1).repeat(repeat, axis=2)\n",
        "\n",
        "train_x = train_x / 255.0\n",
        "test_x = test_x / 255.0\n",
        "\n",
        "print(\"Training set size:\", train_x.shape)\n",
        "print(\"Testing set size:\", test_x.shape)"
      ],
      "execution_count": 6,
      "outputs": [
        {
          "output_type": "stream",
          "text": [
            "Training set size: (42000, 56, 56, 1)\n",
            "Testing set size: (28000, 56, 56, 1)\n"
          ],
          "name": "stdout"
        }
      ]
    },
    {
      "cell_type": "code",
      "metadata": {
        "id": "SX-IHUOGKrHQ",
        "colab_type": "code",
        "colab": {}
      },
      "source": [
        "train_y_one_hot = to_categorical(train_y_raw)"
      ],
      "execution_count": 0,
      "outputs": []
    },
    {
      "cell_type": "code",
      "metadata": {
        "id": "Vrwtldxu5emd",
        "colab_type": "code",
        "outputId": "b1b7500c-f099-49c1-cd84-094b165c1132",
        "colab": {
          "base_uri": "https://localhost:8080/",
          "height": 1000
        }
      },
      "source": [
        "input_shape = train_x[0].shape\n",
        "img_input = Input(shape = input_shape, name='input')\n",
        "\n",
        "conv1_filters = 32\n",
        "conv1_input = img_input\n",
        "conv1_1 = SeparableConv2D(conv1_filters, kernel_size=(3, 5), padding='same', activation='relu', name='conv1_1')(conv1_input)\n",
        "norm1_1 = BatchNormalization(name='norm1_1')(conv1_1)\n",
        "conv1_2 = SeparableConv2D(conv1_filters, kernel_size=(5, 3), padding='same', activation='relu', name='conv1_2')(conv1_input)\n",
        "norm1_2 = BatchNormalization(name='norm1_2')(conv1_2)\n",
        "conv1_3 = SeparableConv2D(conv1_filters, kernel_size=(5, 7), padding='same', activation='relu', name='conv1_3')(conv1_input)\n",
        "norm1_3 = BatchNormalization(name='norm1_3')(conv1_3)\n",
        "conv1_4 = SeparableConv2D(conv1_filters, kernel_size=(7, 5), padding='same', activation='relu', name='conv1_4')(conv1_input)\n",
        "norm1_4 = BatchNormalization(name='norm1_4')(conv1_4)\n",
        "\n",
        "multiplied = Multiply()([norm1_1, norm1_2, norm1_3, norm1_4])\n",
        "pool1 = MaxPooling2D(name='pool1')(multiplied)\n",
        "dp1 = Dropout(0.2, name='dp1')(pool1)\n",
        "\n",
        "conv2 = SeparableConv2D(64, (3, 3), padding='same', activation='relu',name='conv2')(dp1)\n",
        "conv2 = SeparableConv2D(64, (3, 3), padding='same', activation='relu',name='conv2')(dp1)\n",
        "norm2 = BatchNormalization(name='norm2')(conv2)\n",
        "pool2 = MaxPooling2D(pool_size=(2, 2), name='pool2')(norm2)\n",
        "dp2 = Dropout(0.4, name='dp2')(pool2)\n",
        "conv3 = SeparableConv2D(128, (3, 3), activation='relu', name='conv3')(dp2)\n",
        "norm3 = BatchNormalization(name='norm3')(conv3)\n",
        "pool3_1 = MaxPooling2D(pool_size=(2, 2), name='pool3_1')(norm3)\n",
        "pool3_2 = MaxPooling2D(pool_size=(2, 2), name='pool3_2')(pool3_1)\n",
        "dp3 = Dropout(0.4, name='dp3')(pool3_2)\n",
        "\n",
        "fl = Flatten()(dp3)\n",
        "\n",
        "fc4 = Dense(128, activation='relu', name=\"fc4\")(fl)\n",
        "norm4 = BatchNormalization(name='norm4')(fc4)\n",
        "dp4 = Dropout(0.5, name='dp4')(norm4)\n",
        "fc5 = Dense(128, activation='relu', name=\"fc5\")(dp4)\n",
        "norm5 = BatchNormalization(name='norm5')(fc5)\n",
        "dp5 = Dropout(0.5, name='dp5')(norm5)\n",
        "output = Dense(10, activation='softmax', name=\"output\")(dp5)\n",
        "\n",
        "network = Model(img_input, output, name='CNN_classification')\n",
        "network.compile(loss='categorical_crossentropy', optimizer=Adam(lr=0.005), metrics=['acc'])\n",
        "\n",
        "network.summary()"
      ],
      "execution_count": 8,
      "outputs": [
        {
          "output_type": "stream",
          "text": [
            "Model: \"CNN_classification\"\n",
            "__________________________________________________________________________________________________\n",
            "Layer (type)                    Output Shape         Param #     Connected to                     \n",
            "==================================================================================================\n",
            "input (InputLayer)              [(None, 56, 56, 1)]  0                                            \n",
            "__________________________________________________________________________________________________\n",
            "conv1_1 (SeparableConv2D)       (None, 56, 56, 32)   79          input[0][0]                      \n",
            "__________________________________________________________________________________________________\n",
            "conv1_2 (SeparableConv2D)       (None, 56, 56, 32)   79          input[0][0]                      \n",
            "__________________________________________________________________________________________________\n",
            "conv1_3 (SeparableConv2D)       (None, 56, 56, 32)   99          input[0][0]                      \n",
            "__________________________________________________________________________________________________\n",
            "conv1_4 (SeparableConv2D)       (None, 56, 56, 32)   99          input[0][0]                      \n",
            "__________________________________________________________________________________________________\n",
            "norm1_1 (BatchNormalization)    (None, 56, 56, 32)   128         conv1_1[0][0]                    \n",
            "__________________________________________________________________________________________________\n",
            "norm1_2 (BatchNormalization)    (None, 56, 56, 32)   128         conv1_2[0][0]                    \n",
            "__________________________________________________________________________________________________\n",
            "norm1_3 (BatchNormalization)    (None, 56, 56, 32)   128         conv1_3[0][0]                    \n",
            "__________________________________________________________________________________________________\n",
            "norm1_4 (BatchNormalization)    (None, 56, 56, 32)   128         conv1_4[0][0]                    \n",
            "__________________________________________________________________________________________________\n",
            "multiply (Multiply)             (None, 56, 56, 32)   0           norm1_1[0][0]                    \n",
            "                                                                 norm1_2[0][0]                    \n",
            "                                                                 norm1_3[0][0]                    \n",
            "                                                                 norm1_4[0][0]                    \n",
            "__________________________________________________________________________________________________\n",
            "pool1 (MaxPooling2D)            (None, 28, 28, 32)   0           multiply[0][0]                   \n",
            "__________________________________________________________________________________________________\n",
            "dp1 (Dropout)                   (None, 28, 28, 32)   0           pool1[0][0]                      \n",
            "__________________________________________________________________________________________________\n",
            "conv2 (SeparableConv2D)         (None, 28, 28, 64)   2400        dp1[0][0]                        \n",
            "__________________________________________________________________________________________________\n",
            "norm2 (BatchNormalization)      (None, 28, 28, 64)   256         conv2[0][0]                      \n",
            "__________________________________________________________________________________________________\n",
            "pool2 (MaxPooling2D)            (None, 14, 14, 64)   0           norm2[0][0]                      \n",
            "__________________________________________________________________________________________________\n",
            "dp2 (Dropout)                   (None, 14, 14, 64)   0           pool2[0][0]                      \n",
            "__________________________________________________________________________________________________\n",
            "conv3 (SeparableConv2D)         (None, 12, 12, 128)  8896        dp2[0][0]                        \n",
            "__________________________________________________________________________________________________\n",
            "norm3 (BatchNormalization)      (None, 12, 12, 128)  512         conv3[0][0]                      \n",
            "__________________________________________________________________________________________________\n",
            "pool3_1 (MaxPooling2D)          (None, 6, 6, 128)    0           norm3[0][0]                      \n",
            "__________________________________________________________________________________________________\n",
            "pool3_2 (MaxPooling2D)          (None, 3, 3, 128)    0           pool3_1[0][0]                    \n",
            "__________________________________________________________________________________________________\n",
            "dp3 (Dropout)                   (None, 3, 3, 128)    0           pool3_2[0][0]                    \n",
            "__________________________________________________________________________________________________\n",
            "flatten (Flatten)               (None, 1152)         0           dp3[0][0]                        \n",
            "__________________________________________________________________________________________________\n",
            "fc4 (Dense)                     (None, 128)          147584      flatten[0][0]                    \n",
            "__________________________________________________________________________________________________\n",
            "norm4 (BatchNormalization)      (None, 128)          512         fc4[0][0]                        \n",
            "__________________________________________________________________________________________________\n",
            "dp4 (Dropout)                   (None, 128)          0           norm4[0][0]                      \n",
            "__________________________________________________________________________________________________\n",
            "fc5 (Dense)                     (None, 128)          16512       dp4[0][0]                        \n",
            "__________________________________________________________________________________________________\n",
            "norm5 (BatchNormalization)      (None, 128)          512         fc5[0][0]                        \n",
            "__________________________________________________________________________________________________\n",
            "dp5 (Dropout)                   (None, 128)          0           norm5[0][0]                      \n",
            "__________________________________________________________________________________________________\n",
            "output (Dense)                  (None, 10)           1290        dp5[0][0]                        \n",
            "==================================================================================================\n",
            "Total params: 179,342\n",
            "Trainable params: 178,190\n",
            "Non-trainable params: 1,152\n",
            "__________________________________________________________________________________________________\n"
          ],
          "name": "stdout"
        }
      ]
    },
    {
      "cell_type": "code",
      "metadata": {
        "id": "jcNzpTif5jDl",
        "colab_type": "code",
        "colab": {}
      },
      "source": [
        "# Google Driveをマウント\n",
        "!pip install -U -q PyDrive\n",
        "\n",
        "from pydrive.auth import GoogleAuth\n",
        "from pydrive.drive import GoogleDrive\n",
        "from google.colab import auth\n",
        "from oauth2client.client import GoogleCredentials\n",
        "\n",
        "auth.authenticate_user()\n",
        "gauth = GoogleAuth()\n",
        "gauth.credentials = GoogleCredentials.get_application_default()\n",
        "drive = GoogleDrive(gauth)\n",
        "\n",
        "best_network = 'best_network.hdf5'\n",
        "\n",
        "def get_id(name):\n",
        "    file_lst = drive.ListFile({'q': \"'root' in parents and trashed=False\"}).GetList()\n",
        "    for f in file_lst:\n",
        "        if f['title'] == name:\n",
        "            return f['id']\n",
        "\n",
        "def create_file(name):\n",
        "    _id = get_id(name)\n",
        "    _file = drive.CreateFile({'id': _id})\n",
        "    return _file\n",
        "\n",
        "def download(name):\n",
        "    _file = create_file(name)\n",
        "    _file.GetContentFile(name)\n",
        "    return _file"
      ],
      "execution_count": 0,
      "outputs": []
    },
    {
      "cell_type": "code",
      "metadata": {
        "id": "6sqZ3PLD5jsG",
        "colab_type": "code",
        "colab": {}
      },
      "source": [
        "# 初回のみGoogle Driveにファイル作成\n",
        "'''\n",
        "nw_file = drive.CreateFile({'title': best_network})\n",
        "nw_file.Upload()\n",
        "'''\n",
        "# Google Driveからダウンロード\n",
        "nw_file = download(best_network)\n",
        "network.load_weights(best_network)"
      ],
      "execution_count": 0,
      "outputs": []
    },
    {
      "cell_type": "code",
      "metadata": {
        "id": "3ZsXwWq8KrHU",
        "colab_type": "code",
        "outputId": "03a9543c-bcfd-4c95-877a-0bb43faa9dc5",
        "colab": {
          "base_uri": "https://localhost:8080/",
          "height": 306
        }
      },
      "source": [
        "# 学習\n",
        "epochs = 1000\n",
        "\n",
        "cb = [\n",
        "    ModelCheckpoint(\n",
        "        \"best_network.hdf5\", monitor='val_acc', verbose=2, \n",
        "        save_best_only=True, save_weights_only=False, mode='auto'),\n",
        "]\n",
        "\n",
        "H = network.fit(\n",
        "    train_x, train_y_one_hot,\n",
        "    batch_size=1000, epochs=epochs,\n",
        "    validation_split=0.4 , shuffle=True,\n",
        "    callbacks=cb,\n",
        "    verbose=2)"
      ],
      "execution_count": 0,
      "outputs": [
        {
          "output_type": "stream",
          "text": [
            "Epoch 1/1000\n",
            "\n",
            "Epoch 00001: val_acc improved from -inf to 0.99429, saving model to best_network.hdf5\n",
            "26/26 - 6s - loss: 0.0091 - acc: 0.9971 - val_loss: 0.0324 - val_acc: 0.9943\n",
            "Epoch 2/1000\n",
            "\n",
            "Epoch 00002: val_acc improved from 0.99429 to 0.99446, saving model to best_network.hdf5\n",
            "26/26 - 5s - loss: 0.0079 - acc: 0.9973 - val_loss: 0.0276 - val_acc: 0.9945\n",
            "Epoch 3/1000\n",
            "\n",
            "Epoch 00003: val_acc did not improve from 0.99446\n",
            "26/26 - 5s - loss: 0.0086 - acc: 0.9976 - val_loss: 0.0285 - val_acc: 0.9944\n",
            "Epoch 4/1000\n",
            "\n",
            "Epoch 00004: val_acc did not improve from 0.99446\n",
            "26/26 - 5s - loss: 0.0106 - acc: 0.9966 - val_loss: 0.0291 - val_acc: 0.9937\n",
            "Epoch 5/1000\n"
          ],
          "name": "stdout"
        }
      ]
    },
    {
      "cell_type": "code",
      "metadata": {
        "id": "3EBJsCc7CV0g",
        "colab_type": "code",
        "colab": {}
      },
      "source": [
        "# GoogleDriveに保存\n",
        "auth.authenticate_user()\n",
        "gauth = GoogleAuth()\n",
        "gauth.credentials = GoogleCredentials.get_application_default()\n",
        "drive = GoogleDrive(gauth)\n",
        "\n",
        "nw_file = create_file(best_network)\n",
        "nw_file.SetContentFile(best_network)\n",
        "nw_file.Upload()"
      ],
      "execution_count": 0,
      "outputs": []
    },
    {
      "cell_type": "code",
      "metadata": {
        "id": "QwQYOf70KrHd",
        "colab_type": "code",
        "colab": {}
      },
      "source": [
        "plt.plot(H.history['loss'], label=\"loss\")\n",
        "plt.plot(H.history['val_loss'], label=\"val_loss\")\n",
        "plt.xlabel(\"epochs\")\n",
        "plt.ylabel(\"loss\")\n",
        "plt.title(\"loss vs epochs\")\n",
        "plt.legend()\n",
        "plt.show()\n",
        "\n",
        "plt.plot(H.history['acc'], label=\"acc\")\n",
        "plt.plot(H.history['val_acc'], label=\"val_acc\")\n",
        "plt.xlabel(\"epochs\")\n",
        "plt.ylabel(\"acc\")\n",
        "plt.title(\"Accuracy vs epochs\")\n",
        "plt.legend()\n",
        "plt.show()"
      ],
      "execution_count": 0,
      "outputs": []
    },
    {
      "cell_type": "code",
      "metadata": {
        "id": "TLQjTTg1KrHs",
        "colab_type": "code",
        "colab": {}
      },
      "source": [
        "network.load_weights(best_network)\n",
        "\n",
        "y_pred_one_hot = network.predict(test_x)\n",
        "y_pred = np.argmax(y_pred_one_hot, axis=1)\n",
        "\n",
        "submission = pd.DataFrame()\n",
        "submission['ImageId'] = [i for i in range(1, len(y_pred) + 1)]\n",
        "submission['Label'] = y_pred\n",
        "submission.to_csv('pred.csv', index=False)"
      ],
      "execution_count": 0,
      "outputs": []
    },
    {
      "cell_type": "code",
      "metadata": {
        "id": "G1BDgfcJBWZH",
        "colab_type": "code",
        "colab": {}
      },
      "source": [
        "!kaggle competitions submit -c digit-recognizer -f pred.csv"
      ],
      "execution_count": 0,
      "outputs": []
    }
  ]
}