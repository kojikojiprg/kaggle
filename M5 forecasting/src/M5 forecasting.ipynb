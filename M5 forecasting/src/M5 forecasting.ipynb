{
 "cells": [
  {
   "cell_type": "code",
   "execution_count": null,
   "metadata": {},
   "outputs": [],
   "source": [
    "# Google Colabでkaggle.jsonをアップロード\n",
    "from google.colab import files\n",
    "files.upload()\n",
    "\n",
    "# Google Colabでkaggle.jsonをフォルダ移動\n",
    "!mkdir -p ~/.kaggle\n",
    "!mv kaggle.json ~/.kaggle/\n",
    "!chmod 600 ~/.kaggle/kaggle.json\n",
    "\n",
    "# Google Colabでデータセットをダウンロード\n",
    "!pip install kaggle\n",
    "!kaggle competitions download -c m5-forecasting-uncertainty"
   ]
  }
 ],
 "metadata": {
  "language_info": {
   "codemirror_mode": {
    "name": "ipython",
    "version": 3
   },
   "file_extension": ".py",
   "mimetype": "text/x-python",
   "name": "python",
   "nbconvert_exporter": "python",
   "pygments_lexer": "ipython3",
   "version": 3
  },
  "orig_nbformat": 2
 },
 "nbformat": 4,
 "nbformat_minor": 2
}